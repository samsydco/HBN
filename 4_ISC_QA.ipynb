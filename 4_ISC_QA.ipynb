{
 "cells": [
  {
   "cell_type": "code",
   "execution_count": 1,
   "metadata": {},
   "outputs": [],
   "source": [
    "import h5py\n",
    "import glob\n",
    "import numpy as np\n",
    "import random\n",
    "from settings import *"
   ]
  },
  {
   "cell_type": "code",
   "execution_count": 5,
   "metadata": {},
   "outputs": [
    {
     "data": {
      "application/vnd.jupyter.widget-view+json": {
       "model_id": "",
       "version_major": 2,
       "version_minor": 0
      },
      "text/plain": [
       "FigureCanvasNbAgg()"
      ]
     },
     "metadata": {},
     "output_type": "display_data"
    }
   ],
   "source": [
    "%matplotlib widget\n",
    "import matplotlib.pyplot as plt\n",
    "from mpl_toolkits.mplot3d import axes3d, Axes3D\n",
    "# pick which random coords to display:\n",
    "f = h5py.File('/data/Schema/intact/fsaverage6_adj.h5', 'r')\n",
    "dispcoordsLH = f['lhinflatedcoords'][:]\n",
    "randcoords = random.sample(range(len(dispcoordsLH[1])), 5000)\n",
    "dispcoordsLH = dispcoordsLH[:,randcoords]\n",
    "dispcoordsRH = f['rhinflatedcoords'][:]\n",
    "dispcoordsRH = dispcoordsRH[:,randcoords]\n",
    "\n",
    "fig1 = plt.figure()\n",
    "\n",
    "f = h5py.File(h5path+'ISCtest3.h5', 'r')\n",
    "#f = h5py.File(\n",
    "#    '/data/HBN/test/fmriprep_output/fmriprep/PythonData/ISC.h5', 'r')\n",
    "\n",
    "for idx,task in enumerate(['DM']):#,'TP']):\n",
    "    ISC = np.nan_to_num(f[task]['ISC'][:])\n",
    "    # For SUMA visualization:\n",
    "    np.savetxt(h5path+task+'ISC.txt',ISC)\n",
    "    np.savetxt(h5path+task+'ISC_LH.txt',ISC[:len(ISC)//2])\n",
    "    np.savetxt(h5path+task+'ISC_RH.txt',ISC[len(ISC)//2:])\n",
    "    dispISCLH = ISC[:len(ISC)//2][randcoords] # For LH\n",
    "    dispISCRH = ISC[len(ISC)//2:][randcoords] # For RH\n",
    "    # plot ISC values across cortex\n",
    "    axrh = fig1.add_subplot(2,2,idx+1, projection='3d')\n",
    "    x,y,z = dispcoordsRH\n",
    "    brainrh = axrh.scatter3D(x,y,z,c=dispISCRH, cmap='bwr')\n",
    "    fig1.colorbar(brainrh)\n",
    "    axrh.set_title(task + ' RH')\n",
    "    \n",
    "    axlh = fig1.add_subplot(2,2,idx+3, projection='3d')\n",
    "    x,y,z = dispcoordsLH\n",
    "    brainlh = axlh.scatter3D(x,y,z,c=dispISCLH, cmap='bwr');\n",
    "    fig1.colorbar(brainlh)\n",
    "    axlh.set_title(task + ' LH')"
   ]
  },
  {
   "cell_type": "code",
   "execution_count": 8,
   "metadata": {},
   "outputs": [
    {
     "data": {
      "application/vnd.jupyter.widget-view+json": {
       "model_id": "",
       "version_major": 2,
       "version_minor": 0
      },
      "text/plain": [
       "FigureCanvasNbAgg()"
      ]
     },
     "metadata": {},
     "output_type": "display_data"
    },
    {
     "name": "stderr",
     "output_type": "stream",
     "text": [
      "/home/scohen/.conda/envs/scohen_brainiak_env_0.8/lib/python3.6/site-packages/numpy/core/fromnumeric.py:2957: RuntimeWarning: Mean of empty slice.\n",
      "  out=out, **kwargs)\n",
      "/home/scohen/.conda/envs/scohen_brainiak_env_0.8/lib/python3.6/site-packages/numpy/core/_methods.py:80: RuntimeWarning: invalid value encountered in double_scalars\n",
      "  ret = ret.dtype.type(ret / rcount)\n",
      "/home/scohen/.conda/envs/scohen_brainiak_env_0.8/lib/python3.6/site-packages/numpy/core/_methods.py:135: RuntimeWarning: Degrees of freedom <= 0 for slice\n",
      "  keepdims=keepdims)\n",
      "/home/scohen/.conda/envs/scohen_brainiak_env_0.8/lib/python3.6/site-packages/numpy/core/_methods.py:105: RuntimeWarning: invalid value encountered in true_divide\n",
      "  arrmean, rcount, out=arrmean, casting='unsafe', subok=False)\n",
      "/home/scohen/.conda/envs/scohen_brainiak_env_0.8/lib/python3.6/site-packages/numpy/core/_methods.py:127: RuntimeWarning: invalid value encountered in double_scalars\n",
      "  ret = ret.dtype.type(ret / rcount)\n"
     ]
    }
   ],
   "source": [
    "fig2 = plt.figure()\n",
    "\n",
    "Ages = []\n",
    "Sexes = []\n",
    "for s in f['subord'][:]:\n",
    "    fs = h5py.File(s,'r')\n",
    "    Ages.append(fs['Pheno']['Age'].value)\n",
    "    Sexes.append(fs['Pheno']['Sex'].value)\n",
    "Agesr = np.round(Ages)\n",
    "Agesu = list(set(Agesr))\n",
    "\n",
    "for idx,task in enumerate(['DM']):#,'TP']):    \n",
    "    ISC_persubj = np.mean(np.nan_to_num(f[task]['ISC_persubj'][:])>0.1,axis=0)\n",
    "    # ISC_persubj = np.nanmean(f[task]['ISC_persubj'][:],axis=0)\n",
    "    ISCam = []\n",
    "    ISCas = []\n",
    "    for a in Agesu:\n",
    "        idxs = list(np.where(Agesr==a))[0]\n",
    "        ISCam.append(np.mean(ISC_persubj[idxs]))\n",
    "        ISCas.append(np.std(ISC_persubj[idxs]))\n",
    "    ISCsm = []\n",
    "    ISCss = []\n",
    "    for s in np.int64([0,1]):\n",
    "        idxs = list(np.where(Sexes==s))[0]\n",
    "        ISCsm.append(np.mean(ISC_persubj[idxs]))\n",
    "        ISCss.append(np.std(ISC_persubj[idxs])) \n",
    "    # plot per-subject ISC values by age\n",
    "    ax = fig2.add_subplot(2,2,idx+1)\n",
    "    ax.errorbar(Agesu, ISCam, ISCas, marker='o', linestyle='None')\n",
    "    plt.ylabel('ISC')\n",
    "    plt.xlabel('Age')\n",
    "    ax.set_title(task + ' ISC by age')\n",
    "    # plot per-subject ISC values by sex\n",
    "    ax = fig2.add_subplot(2,2,idx+3)\n",
    "    ax.errorbar([0,1], ISCsm, ISCss, linestyle='None', marker='^')\n",
    "    ax.xaxis.set_ticks([0, 1])\n",
    "    ax.xaxis.set_ticklabels(('Male','Female'))\n",
    "    ax.set_title(task + ' ISC by sex')\n",
    "    plt.ylabel('ISC')\n",
    "fig2.tight_layout()"
   ]
  },
  {
   "cell_type": "code",
   "execution_count": null,
   "metadata": {},
   "outputs": [],
   "source": [
    "# plot matrix of per-subject ISCs\n",
    "\n"
   ]
  },
  {
   "cell_type": "code",
   "execution_count": 6,
   "metadata": {},
   "outputs": [
    {
     "data": {
      "application/vnd.jupyter.widget-view+json": {
       "model_id": "",
       "version_major": 2,
       "version_minor": 0
      },
      "text/plain": [
       "FigureCanvasNbAgg()"
      ]
     },
     "metadata": {},
     "output_type": "display_data"
    },
    {
     "data": {
      "text/plain": [
       "<matplotlib.colorbar.Colorbar at 0x7fe6086e1d68>"
      ]
     },
     "execution_count": 6,
     "metadata": {},
     "output_type": "execute_result"
    }
   ],
   "source": [
    "%matplotlib widget\n",
    "fig = plt.figure()\n",
    "#ax = plt.axes(projection='3d')\n",
    "ax = fig.gca(projection='3d')\n",
    "\n",
    "x,y,z = dispcoordsRH\n",
    "brain = ax.scatter3D(x,y,z,c=dispISCRH, cmap='bwr');\n",
    "plt.colorbar(brain)"
   ]
  },
  {
   "cell_type": "code",
   "execution_count": null,
   "metadata": {},
   "outputs": [],
   "source": []
  }
 ],
 "metadata": {
  "kernelspec": {
   "display_name": "Python 3",
   "language": "python",
   "name": "python3"
  },
  "language_info": {
   "codemirror_mode": {
    "name": "ipython",
    "version": 3
   },
   "file_extension": ".py",
   "mimetype": "text/x-python",
   "name": "python",
   "nbconvert_exporter": "python",
   "pygments_lexer": "ipython3",
   "version": "3.6.5"
  }
 },
 "nbformat": 4,
 "nbformat_minor": 2
}
