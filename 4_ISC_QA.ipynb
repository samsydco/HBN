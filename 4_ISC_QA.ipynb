{
 "cells": [
  {
   "cell_type": "code",
   "execution_count": 31,
   "metadata": {},
   "outputs": [],
   "source": [
    "import h5py\n",
    "import glob\n",
    "import scipy.io\n",
    "from scipy.stats import stats\n",
    "from sklearn.metrics import confusion_matrix\n",
    "from sklearn.svm import NuSVC\n",
    "import numpy as np\n",
    "import random\n",
    "from settings import *\n",
    "# path = '/data/HBN/test/fmriprep_output/fmriprep/PythonData/'"
   ]
  },
  {
   "cell_type": "code",
   "execution_count": 32,
   "metadata": {},
   "outputs": [],
   "source": [
    "from brainiak import isfc"
   ]
  },
  {
   "cell_type": "code",
   "execution_count": 93,
   "metadata": {},
   "outputs": [],
   "source": [
    "subord = glob.glob(h5path+'sub*.h5')\n",
    "with h5py.File(h5path+'ISC.h5') as hf:\n",
    "    string_dt = h5py.special_dtype(vlen=str)\n",
    "    hf.create_dataset(\"subord\",data=np.array(subord).astype('|S70'),dtype=string_dt)\n",
    "for task in ['DM','TP']:\n",
    "    data = []\n",
    "    for sub in subord:\n",
    "        f = h5py.File(sub, 'r')\n",
    "        D = {}\n",
    "        for hem in ['L','R']:\n",
    "            D[hem] = f[task][hem][:]\n",
    "        data.append(np.concatenate(\n",
    "            [D['L'], D['R']], axis=0))\n",
    "    data = np.dstack(data)\n",
    "    ISC = isfc.isc(data,collapse_subj=True)\n",
    "    ISC_persubj = isfc.isc(data,collapse_subj=False)\n",
    "    with h5py.File(h5path+'ISC.h5') as hf:\n",
    "        grp = hf.create_group(task)\n",
    "        grp.create_dataset('ISC', data=ISC)\n",
    "        grp.create_dataset('ISC_persubj', data=ISC_persubj)"
   ]
  },
  {
   "cell_type": "code",
   "execution_count": 109,
   "metadata": {},
   "outputs": [
    {
     "data": {
      "application/vnd.jupyter.widget-view+json": {
       "model_id": "db8a80d4ab3e4de5abf16f9e0eedb5d8",
       "version_major": 2,
       "version_minor": 0
      },
      "text/plain": [
       "FigureCanvasNbAgg()"
      ]
     },
     "metadata": {},
     "output_type": "display_data"
    },
    {
     "data": {
      "application/vnd.jupyter.widget-view+json": {
       "model_id": "a2835bd4993a4ad28e95550ae8415005",
       "version_major": 2,
       "version_minor": 0
      },
      "text/plain": [
       "FigureCanvasNbAgg()"
      ]
     },
     "metadata": {},
     "output_type": "display_data"
    }
   ],
   "source": [
    "%matplotlib widget\n",
    "from mpl_toolkits import mplot3d\n",
    "import matplotlib.pyplot as plt\n",
    "# pick which random coords to display:\n",
    "f = h5py.File('/data/Schema/intact/fsaverage6_adj.h5', 'r')\n",
    "dispcoordsLH = f['lhinflatedcoords'][:]\n",
    "randcoords = random.sample(range(len(dispcoordsLH[1])), 5000)\n",
    "dispcoordsLH = dispcoordsLH[:,randcoords]\n",
    "dispISCLH = ISC[:len(ISC)//2][randcoords] # For LH\n",
    "dispcoordsRH = f['rhinflatedcoords'][:]\n",
    "dispcoordsRH = dispcoordsRH[:,randcoords]\n",
    "dispISCRH = ISC[len(ISC)//2:][randcoords] # For LH\n",
    "\n",
    "fig1 = plt.figure()\n",
    "fig2 = plt.figure()\n",
    "\n",
    "f = h5py.File(h5path+'ISC.h5', 'r')\n",
    "for idx,task in enumerate(['DM','TP']):\n",
    "    ISC = f[task]['ISC'][:]\n",
    "    ISC_persubj = f[task]['ISC_persubj'][:]\n",
    "    ISC=np.nan_to_num(ISC)\n",
    "    # For SUMA visualization:\n",
    "    np.savetxt(path+task+'ISC.txt',ISC)\n",
    "    np.savetxt(path+task+'ISC_LH.txt',ISC[:len(ISC)//2])\n",
    "    np.savetxt(path+task+'ISC_RH.txt',ISC[len(ISC)//2:])\n",
    "    dispISCLH = ISC[:len(ISC)//2][randcoords] # For LH\n",
    "    dispISCRH = ISC[len(ISC)//2:][randcoords] # For LH\n",
    "    # plot ISC values across cortex\n",
    "    ax = fig1.add_subplot(2,2,idx+1, projection='3d')\n",
    "    x,y,z = dispcoordsRH\n",
    "    brain = ax.scatter3D(x,y,z,c=dispISCRH, cmap='bwr')\n",
    "    plt.colorbar(brain)\n",
    "    ax = fig1.add_subplot(2,2,idx+3, projection='3d')\n",
    "    x,y,z = dispcoordsLH\n",
    "    brain = ax.scatter3D(x,y,z,c=dispISCLH, cmap='bwr');\n",
    "    plt.colorbar(brain)\n",
    "    # plot per-subject ISC values by age\n",
    "    # plot per-subject ISC values by sex\n",
    "    # plot matrix of per-subject ISCs"
   ]
  },
  {
   "cell_type": "code",
   "execution_count": 6,
   "metadata": {},
   "outputs": [
    {
     "data": {
      "application/vnd.jupyter.widget-view+json": {
       "model_id": "b6a29e1bc4774f3689cc093bd7caa6bc",
       "version_major": 2,
       "version_minor": 0
      },
      "text/plain": [
       "FigureCanvasNbAgg()"
      ]
     },
     "metadata": {},
     "output_type": "display_data"
    },
    {
     "data": {
      "text/plain": [
       "<matplotlib.colorbar.Colorbar at 0x7f34502bfef0>"
      ]
     },
     "execution_count": 6,
     "metadata": {},
     "output_type": "execute_result"
    }
   ],
   "source": [
    "%matplotlib widget\n",
    "fig = plt.figure()\n",
    "#ax = plt.axes(projection='3d')\n",
    "ax = fig.gca(projection='3d')\n",
    "\n",
    "x,y,z = dispcoordsRH\n",
    "brain = ax.scatter3D(x,y,z,c=dispISCRH, cmap='bwr');\n",
    "plt.colorbar(brain)"
   ]
  }
 ],
 "metadata": {
  "kernelspec": {
   "display_name": "Python 3",
   "language": "python",
   "name": "python3"
  },
  "language_info": {
   "codemirror_mode": {
    "name": "ipython",
    "version": 3
   },
   "file_extension": ".py",
   "mimetype": "text/x-python",
   "name": "python",
   "nbconvert_exporter": "python",
   "pygments_lexer": "ipython3",
   "version": "3.6.5"
  }
 },
 "nbformat": 4,
 "nbformat_minor": 2
}
