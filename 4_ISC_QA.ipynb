{
 "cells": [
  {
   "cell_type": "code",
   "execution_count": 1,
   "metadata": {},
   "outputs": [],
   "source": [
    "import h5py\n",
    "import glob\n",
    "import numpy as np\n",
    "import random\n",
    "from settings import *"
   ]
  },
  {
   "cell_type": "code",
   "execution_count": null,
   "metadata": {},
   "outputs": [],
   "source": [
    "from brainiak import isfc"
   ]
  },
  {
   "cell_type": "code",
   "execution_count": 15,
   "metadata": {},
   "outputs": [],
   "source": [
    "subord = glob.glob(h5path+'sub*.h5')\n",
    "with h5py.File(h5path+'ISC.h5') as hf:\n",
    "    string_dt = h5py.special_dtype(vlen=str)\n",
    "    hf.create_dataset(\"subord\",data=np.array(subord).astype('|S71'),dtype=string_dt)\n",
    "for task in ['DM','TP']:\n",
    "    data = []\n",
    "    for sub in subord:\n",
    "        f = h5py.File(sub, 'r')\n",
    "        D = {}\n",
    "        for hem in ['L','R']:\n",
    "            D[hem] = f[task][hem][:]\n",
    "        data.append(np.concatenate(\n",
    "            [D['L'], D['R']], axis=0))\n",
    "    data = np.dstack(data)\n",
    "    ISC = isfc.isc(data,collapse_subj=True)\n",
    "    ISC_persubj = isfc.isc(data,collapse_subj=False)\n",
    "    with h5py.File(h5path+'ISC.h5') as hf:\n",
    "        grp = hf.create_group(task)\n",
    "        grp.create_dataset('ISC', data=ISC)\n",
    "        grp.create_dataset('ISC_persubj', data=ISC_persubj)"
   ]
  },
  {
   "cell_type": "code",
   "execution_count": 4,
   "metadata": {},
   "outputs": [
    {
     "data": {
      "application/vnd.jupyter.widget-view+json": {
       "model_id": "",
       "version_major": 2,
       "version_minor": 0
      },
      "text/plain": [
       "FigureCanvasNbAgg()"
      ]
     },
     "metadata": {},
     "output_type": "display_data"
    }
   ],
   "source": [
    "%matplotlib widget\n",
    "import matplotlib.pyplot as plt\n",
    "from mpl_toolkits.mplot3d import axes3d, Axes3D\n",
    "# pick which random coords to display:\n",
    "f = h5py.File('/data/Schema/intact/fsaverage6_adj.h5', 'r')\n",
    "dispcoordsLH = f['lhinflatedcoords'][:]\n",
    "randcoords = random.sample(range(len(dispcoordsLH[1])), 5000)\n",
    "dispcoordsLH = dispcoordsLH[:,randcoords]\n",
    "dispcoordsRH = f['rhinflatedcoords'][:]\n",
    "dispcoordsRH = dispcoordsRH[:,randcoords]\n",
    "\n",
    "fig1 = plt.figure()\n",
    "\n",
    "f = h5py.File(h5path+'ISC.h5', 'r')\n",
    "#f = h5py.File(\n",
    "#    '/data/HBN/test/fmriprep_output/fmriprep/PythonData/ISC.h5', 'r')\n",
    "\n",
    "for idx,task in enumerate(['DM','TP']):\n",
    "    ISC = np.nan_to_num(f[task]['ISC'][:])\n",
    "    # For SUMA visualization:\n",
    "    np.savetxt(h5path+task+'ISC.txt',ISC)\n",
    "    np.savetxt(h5path+task+'ISC_LH.txt',ISC[:len(ISC)//2])\n",
    "    np.savetxt(h5path+task+'ISC_RH.txt',ISC[len(ISC)//2:])\n",
    "    dispISCLH = ISC[:len(ISC)//2][randcoords] # For LH\n",
    "    dispISCRH = ISC[len(ISC)//2:][randcoords] # For RH\n",
    "    # plot ISC values across cortex\n",
    "    axrh = fig1.add_subplot(2,2,idx+1, projection='3d')\n",
    "    x,y,z = dispcoordsRH\n",
    "    brainrh = axrh.scatter3D(x,y,z,c=dispISCRH, cmap='bwr')\n",
    "    fig1.colorbar(brainrh)\n",
    "    axrh.set_title(task + ' RH')\n",
    "    \n",
    "    axlh = fig1.add_subplot(2,2,idx+3, projection='3d')\n",
    "    x,y,z = dispcoordsLH\n",
    "    brainlh = axlh.scatter3D(x,y,z,c=dispISCLH, cmap='bwr');\n",
    "    fig1.colorbar(brainlh)\n",
    "    axlh.set_title(task + ' LH')"
   ]
  },
  {
   "cell_type": "code",
   "execution_count": 66,
   "metadata": {},
   "outputs": [
    {
     "data": {
      "application/vnd.jupyter.widget-view+json": {
       "model_id": "4e9df051b4f04d30b9074992ed3e1dbf",
       "version_major": 2,
       "version_minor": 0
      },
      "text/plain": [
       "FigureCanvasNbAgg()"
      ]
     },
     "metadata": {},
     "output_type": "display_data"
    }
   ],
   "source": [
    "fig2 = plt.figure()\n",
    "\n",
    "Ages = []\n",
    "Sexes = []\n",
    "for s in f['subord'][:]:\n",
    "    fs = h5py.File(s,'r')\n",
    "    Ages.append(fs['Pheno']['Age'].value)\n",
    "    Sexes.append(fs['Pheno']['Sex'].value)\n",
    "Agesr = np.round(Ages)\n",
    "Agesu = list(set(Agesr))\n",
    "\n",
    "for idx,task in enumerate(['DM','TP']):    \n",
    "    ISC_persubj = np.nanmean(f[task]['ISC_persubj'][:],axis=0)\n",
    "    ISCam = []\n",
    "    ISCas = []\n",
    "    for a in Agesu:\n",
    "        idxs = list(np.where(Agesr==a))[0]\n",
    "        ISCam.append(np.mean(ISC_persubj[idxs]))\n",
    "        ISCas.append(np.std(ISC_persubj[idxs]))\n",
    "    ISCsm = []\n",
    "    ISCss = []\n",
    "    for s in np.int64([0,1]):\n",
    "        idxs = list(np.where(Sexes==s))[0]\n",
    "        ISCsm.append(np.mean(ISC_persubj[idxs]))\n",
    "        ISCss.append(np.std(ISC_persubj[idxs])) \n",
    "    # plot per-subject ISC values by age\n",
    "    ax = fig2.add_subplot(2,2,idx+1)\n",
    "    ax.errorbar(Agesu, ISCam, ISCas, marker='o', linestyle='None')\n",
    "    plt.ylabel('ISC')\n",
    "    plt.xlabel('Age')\n",
    "    ax.set_title(task + ' ISC by age')\n",
    "    # plot per-subject ISC values by sex\n",
    "    ax = fig2.add_subplot(2,2,idx+3)\n",
    "    ax.errorbar([0,1], ISCsm, ISCss, linestyle='None', marker='^')\n",
    "    ax.xaxis.set_ticks([0, 1])\n",
    "    ax.xaxis.set_ticklabels(('Male','Female'))\n",
    "    ax.set_title(task + ' ISC by sex')\n",
    "    plt.ylabel('ISC')\n",
    "    #plt.xlabel('Age')\n",
    "    \n",
    "    # plot matrix of per-subject ISCs\n",
    "fig2.tight_layout()"
   ]
  },
  {
   "cell_type": "code",
   "execution_count": 6,
   "metadata": {},
   "outputs": [
    {
     "data": {
      "application/vnd.jupyter.widget-view+json": {
       "model_id": "",
       "version_major": 2,
       "version_minor": 0
      },
      "text/plain": [
       "FigureCanvasNbAgg()"
      ]
     },
     "metadata": {},
     "output_type": "display_data"
    },
    {
     "data": {
      "text/plain": [
       "<matplotlib.colorbar.Colorbar at 0x7fe6086e1d68>"
      ]
     },
     "execution_count": 6,
     "metadata": {},
     "output_type": "execute_result"
    }
   ],
   "source": [
    "%matplotlib widget\n",
    "fig = plt.figure()\n",
    "#ax = plt.axes(projection='3d')\n",
    "ax = fig.gca(projection='3d')\n",
    "\n",
    "x,y,z = dispcoordsRH\n",
    "brain = ax.scatter3D(x,y,z,c=dispISCRH, cmap='bwr');\n",
    "plt.colorbar(brain)"
   ]
  },
  {
   "cell_type": "code",
   "execution_count": null,
   "metadata": {},
   "outputs": [],
   "source": []
  }
 ],
 "metadata": {
  "kernelspec": {
   "display_name": "Python 3",
   "language": "python",
   "name": "python3"
  },
  "language_info": {
   "codemirror_mode": {
    "name": "ipython",
    "version": 3
   },
   "file_extension": ".py",
   "mimetype": "text/x-python",
   "name": "python",
   "nbconvert_exporter": "python",
   "pygments_lexer": "ipython3",
   "version": "3.6.5"
  }
 },
 "nbformat": 4,
 "nbformat_minor": 2
}
