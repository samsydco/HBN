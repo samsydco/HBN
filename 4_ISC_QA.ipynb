{
 "cells": [
  {
   "cell_type": "code",
   "execution_count": 54,
   "metadata": {},
   "outputs": [],
   "source": [
    "import h5py\n",
    "import glob\n",
    "import scipy.io\n",
    "from scipy.stats import stats\n",
    "from sklearn.metrics import confusion_matrix\n",
    "from sklearn.svm import NuSVC\n",
    "import numpy as np\n",
    "import random\n",
    "from settings import *\n",
    "# path = '/data/HBN/test/fmriprep_output/fmriprep/PythonData/'"
   ]
  },
  {
   "cell_type": "code",
   "execution_count": 55,
   "metadata": {},
   "outputs": [],
   "source": [
    "from brainiak import isfc"
   ]
  },
  {
   "cell_type": "code",
   "execution_count": 93,
   "metadata": {},
   "outputs": [],
   "source": [
    "subord = glob.glob(h5path+'sub*.h5')\n",
    "with h5py.File(h5path+'ISC.h5') as hf:\n",
    "    string_dt = h5py.special_dtype(vlen=str)\n",
    "    hf.create_dataset(\"subord\",data=np.array(subord).astype('|S70'),dtype=string_dt)\n",
    "for task in ['DM','TP']:\n",
    "    data = []\n",
    "    for sub in subord:\n",
    "        f = h5py.File(sub, 'r')\n",
    "        D = {}\n",
    "        for hem in ['L','R']:\n",
    "            D[hem] = f[task][hem][:]\n",
    "        data.append(np.concatenate(\n",
    "            [D['L'], D['R']], axis=0))\n",
    "    data = np.dstack(data)\n",
    "    ISC = isfc.isc(data,collapse_subj=True)\n",
    "    ISC_persubj = isfc.isc(data,collapse_subj=False)\n",
    "    with h5py.File(h5path+'ISC.h5') as hf:\n",
    "        grp = hf.create_group(task)\n",
    "        grp.create_dataset('ISC', data=ISC)\n",
    "        grp.create_dataset('ISC_persubj', data=ISC_persubj)"
   ]
  },
  {
   "cell_type": "code",
   "execution_count": 93,
   "metadata": {},
   "outputs": [
    {
     "data": {
      "application/vnd.jupyter.widget-view+json": {
       "model_id": "b1a703c4024147bc89f53aa3f1e00de1",
       "version_major": 2,
       "version_minor": 0
      },
      "text/plain": [
       "FigureCanvasNbAgg()"
      ]
     },
     "metadata": {},
     "output_type": "display_data"
    }
   ],
   "source": [
    "%matplotlib widget\n",
    "import matplotlib.pyplot as plt\n",
    "# load ISC (CHANGE PATH LATER)\n",
    "iscf = h5py.File(\n",
    "    '/data/HBN/test/fmriprep_output/fmriprep/PythonData/ISC.h5', 'r')\n",
    "# pick which random coords to display:\n",
    "f = h5py.File('/data/Schema/intact/fsaverage6_adj.h5', 'r')\n",
    "dispcoordsLH = f['lhinflatedcoords'][:]\n",
    "randcoords = random.sample(range(len(dispcoordsLH[1])), 5000)\n",
    "dispcoordsLH = dispcoordsLH[:,randcoords]\n",
    "dispcoordsRH = f['rhinflatedcoords'][:]\n",
    "dispcoordsRH = dispcoordsRH[:,randcoords]\n",
    "\n",
    "#fig1 = plt.figure()\n",
    "fig2 = plt.figure()\n",
    "\n",
    "# f = h5py.File(h5path+'ISC.h5', 'r')\n",
    "f = h5py.File(\n",
    "    '/data/HBN/test/fmriprep_output/fmriprep/PythonData/ISC.h5', 'r')\n",
    "Ages = []\n",
    "Sexes = []\n",
    "for s in f['subord'][:]:\n",
    "    fs = h5py.File(s,'r')\n",
    "    Ages.append(fs['Pheno']['Age'].value)\n",
    "    Sexes.append(fs['Pheno']['Sex'].value)\n",
    "\n",
    "\n",
    "for idx,task in enumerate(['DM','TP']):\n",
    "    ISC = np.nan_to_num(f[task]['ISC'][:])\n",
    "    ISC_persubj = np.nanmean(f[task]['ISC_persubj'][:],axis=0)\n",
    "    for a in \n",
    "    # For SUMA visualization:\n",
    "    np.savetxt(h5path+task+'ISC.txt',ISC)\n",
    "    np.savetxt(h5path+task+'ISC_LH.txt',ISC[:len(ISC)//2])\n",
    "    np.savetxt(h5path+task+'ISC_RH.txt',ISC[len(ISC)//2:])\n",
    "    dispISCLH = ISC[:len(ISC)//2][randcoords] # For LH\n",
    "    dispISCRH = ISC[len(ISC)//2:][randcoords] # For LH\n",
    "    # plot ISC values across cortex\n",
    "    axrh = fig1.add_subplot(2,2,idx+1, projection='3d')\n",
    "    x,y,z = dispcoordsRH\n",
    "    brainrh = axrh.scatter3D(x,y,z,c=dispISCRH, cmap='bwr')\n",
    "    fig1.colorbar(brainrh)\n",
    "    axrh.set_title(task + ' RH')\n",
    "    \n",
    "    axlh = fig1.add_subplot(2,2,idx+3, projection='3d')\n",
    "    x,y,z = dispcoordsLH\n",
    "    brainlh = axlh.scatter3D(x,y,z,c=dispISCLH, cmap='bwr');\n",
    "    fig1.colorbar(brainlh)\n",
    "    axlh.set_title(task + ' LH')\n",
    "    # plot per-subject ISC values by age\n",
    "    ax = fig2.add_subplot(2,2,idx+1)\n",
    "    ax.hist(Ages,weights=ISC_persubj)\n",
    "    ax.set_title(task + ' ISC by age')\n",
    "    # plot per-subject ISC values by sex\n",
    "    ax = fig2.add_subplot(2,2,idx+3)\n",
    "    ax.hist(Sexes,weights=ISC_persubj)\n",
    "    ax.set_title(task + ' ISC by sex')\n",
    "    # plot matrix of per-subject ISCs"
   ]
  },
  {
   "cell_type": "code",
   "execution_count": 6,
   "metadata": {},
   "outputs": [
    {
     "data": {
      "application/vnd.jupyter.widget-view+json": {
       "model_id": "b6a29e1bc4774f3689cc093bd7caa6bc",
       "version_major": 2,
       "version_minor": 0
      },
      "text/plain": [
       "FigureCanvasNbAgg()"
      ]
     },
     "metadata": {},
     "output_type": "display_data"
    },
    {
     "data": {
      "text/plain": [
       "<matplotlib.colorbar.Colorbar at 0x7f34502bfef0>"
      ]
     },
     "execution_count": 6,
     "metadata": {},
     "output_type": "execute_result"
    }
   ],
   "source": [
    "%matplotlib widget\n",
    "fig = plt.figure()\n",
    "#ax = plt.axes(projection='3d')\n",
    "ax = fig.gca(projection='3d')\n",
    "\n",
    "x,y,z = dispcoordsRH\n",
    "brain = ax.scatter3D(x,y,z,c=dispISCRH, cmap='bwr');\n",
    "plt.colorbar(brain)"
   ]
  }
 ],
 "metadata": {
  "kernelspec": {
   "display_name": "Python 3",
   "language": "python",
   "name": "python3"
  },
  "language_info": {
   "codemirror_mode": {
    "name": "ipython",
    "version": 3
   },
   "file_extension": ".py",
   "mimetype": "text/x-python",
   "name": "python",
   "nbconvert_exporter": "python",
   "pygments_lexer": "ipython3",
   "version": "3.6.5"
  }
 },
 "nbformat": 4,
 "nbformat_minor": 2
}
