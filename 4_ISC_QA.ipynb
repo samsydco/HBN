{
 "cells": [
  {
   "cell_type": "code",
   "execution_count": 1,
   "metadata": {},
   "outputs": [],
   "source": [
    "import h5py\n",
    "import glob\n",
    "import scipy.io\n",
    "from scipy.stats import stats\n",
    "from sklearn.metrics import confusion_matrix\n",
    "from sklearn.svm import NuSVC\n",
    "import numpy as np\n",
    "import random\n",
    "from settings import *\n",
    "# path = '/data/HBN/test/fmriprep_output/fmriprep/PythonData/'"
   ]
  },
  {
   "cell_type": "code",
   "execution_count": 4,
   "metadata": {},
   "outputs": [],
   "source": [
    "from brainiak import isfc"
   ]
  },
  {
   "cell_type": "code",
   "execution_count": 3,
   "metadata": {},
   "outputs": [],
   "source": [
    "TPdata = []\n",
    "for TP in glob.glob(path+'*TP.h5'):\n",
    "    f = h5py.File(TP, 'r')\n",
    "    D = {}\n",
    "    for hem in list(f.keys()):\n",
    "        D[hem] = f[hem][:]\n",
    "    TPdata.append(\n",
    "        np.concatenate(\n",
    "            [D['L'], D['R']], axis=0))\n",
    "TPdata = np.dstack(TPdata)"
   ]
  },
  {
   "cell_type": "code",
   "execution_count": 9,
   "metadata": {},
   "outputs": [
    {
     "ename": "AttributeError",
     "evalue": "module 'brainiak' has no attribute 'isfc'",
     "output_type": "error",
     "traceback": [
      "\u001b[0;31m---------------------------------------------------------------------------\u001b[0m",
      "\u001b[0;31mAttributeError\u001b[0m                            Traceback (most recent call last)",
      "\u001b[0;32m<ipython-input-9-1dd0b0523f9c>\u001b[0m in \u001b[0;36m<module>\u001b[0;34m()\u001b[0m\n\u001b[0;32m----> 1\u001b[0;31m \u001b[0mTPISC\u001b[0m \u001b[0;34m=\u001b[0m \u001b[0mbrainiak\u001b[0m\u001b[0;34m.\u001b[0m\u001b[0misfc\u001b[0m\u001b[0;34m.\u001b[0m\u001b[0misc\u001b[0m\u001b[0;34m(\u001b[0m\u001b[0mTPdata\u001b[0m\u001b[0;34m,\u001b[0m\u001b[0mcollapse_subj\u001b[0m\u001b[0;34m=\u001b[0m\u001b[0;32mTrue\u001b[0m\u001b[0;34m)\u001b[0m\u001b[0;34m\u001b[0m\u001b[0m\n\u001b[0m\u001b[1;32m      2\u001b[0m \u001b[0mTPISC_persubj\u001b[0m \u001b[0;34m=\u001b[0m \u001b[0mbrainiak\u001b[0m\u001b[0;34m.\u001b[0m\u001b[0misfc\u001b[0m\u001b[0;34m.\u001b[0m\u001b[0misc\u001b[0m\u001b[0;34m(\u001b[0m\u001b[0mTPdata\u001b[0m\u001b[0;34m,\u001b[0m\u001b[0mcollapse_subj\u001b[0m\u001b[0;34m=\u001b[0m\u001b[0;32mFalse\u001b[0m\u001b[0;34m)\u001b[0m\u001b[0;34m\u001b[0m\u001b[0m\n",
      "\u001b[0;31mAttributeError\u001b[0m: module 'brainiak' has no attribute 'isfc'"
     ]
    }
   ],
   "source": [
    "TPISC = isfc.isc(TPdata,collapse_subj=True)\n",
    "TPISC_persubj = isfc.isc(TPdata,collapse_subj=False)"
   ]
  },
  {
   "cell_type": "code",
   "execution_count": 17,
   "metadata": {},
   "outputs": [],
   "source": [
    "with h5py.File(path+'ISC.h5') as hf:\n",
    "    grp = hf.create_group('TP')\n",
    "    grp.create_dataset('ISC', data=TPISC)\n",
    "    grp.create_dataset('ISC_persubj', data=TPISC_persubj)"
   ]
  },
  {
   "cell_type": "code",
   "execution_count": 3,
   "metadata": {},
   "outputs": [],
   "source": [
    "f = h5py.File(path+'ISC.h5', 'r')\n",
    "ISC = f['TP']['ISC'][:]\n",
    "ISC_persubj = f['TP']['ISC_persubj'][:]"
   ]
  },
  {
   "cell_type": "code",
   "execution_count": 4,
   "metadata": {},
   "outputs": [],
   "source": [
    "ISC=np.nan_to_num(ISC)\n",
    "np.savetxt(path+'TPISC.txt',ISC)\n",
    "np.savetxt(path+'TPISC_LH.txt',ISC[:len(ISC)//2])\n",
    "np.savetxt(path+'TPISC_RH.txt',ISC[len(ISC)//2:])\n",
    "f = h5py.File('/data/Schema/intact/fsaverage6_adj.h5', 'r')\n",
    "dispcoordsLH = f['lhinflatedcoords'][:]\n",
    "randcoords = random.sample(range(len(dispcoordsLH[1])), 5000)\n",
    "dispcoordsLH = dispcoordsLH[:,randcoords]\n",
    "dispISCLH = ISC[:len(ISC)//2][randcoords] # For LH\n",
    "dispcoordsRH = f['rhinflatedcoords'][:]\n",
    "randcoords = random.sample(range(len(dispcoordsRH[1])), 5000)\n",
    "dispcoordsRH = dispcoordsRH[:,randcoords]\n",
    "dispISCRH = ISC[len(ISC)//2:][randcoords] # For LH"
   ]
  },
  {
   "cell_type": "code",
   "execution_count": 5,
   "metadata": {},
   "outputs": [],
   "source": [
    "from mpl_toolkits import mplot3d\n",
    "import matplotlib.pyplot as plt"
   ]
  },
  {
   "cell_type": "code",
   "execution_count": 6,
   "metadata": {},
   "outputs": [
    {
     "data": {
      "application/vnd.jupyter.widget-view+json": {
       "model_id": "b6a29e1bc4774f3689cc093bd7caa6bc",
       "version_major": 2,
       "version_minor": 0
      },
      "text/plain": [
       "FigureCanvasNbAgg()"
      ]
     },
     "metadata": {},
     "output_type": "display_data"
    },
    {
     "data": {
      "text/plain": [
       "<matplotlib.colorbar.Colorbar at 0x7f34502bfef0>"
      ]
     },
     "execution_count": 6,
     "metadata": {},
     "output_type": "execute_result"
    }
   ],
   "source": [
    "%matplotlib widget\n",
    "fig = plt.figure()\n",
    "#ax = plt.axes(projection='3d')\n",
    "ax = fig.gca(projection='3d')\n",
    "\n",
    "x,y,z = dispcoordsRH\n",
    "brain = ax.scatter3D(x,y,z,c=dispISCRH, cmap='bwr');\n",
    "plt.colorbar(brain)"
   ]
  },
  {
   "cell_type": "code",
   "execution_count": null,
   "metadata": {},
   "outputs": [
    {
     "name": "stdout",
     "output_type": "stream",
     "text": [
      "Automatically created module for IPython interactive environment\n"
     ]
    }
   ],
   "source": [
    "%gui qt\n",
    "from surfer import Brain\n",
    "\n",
    "print(__doc__)\n",
    "\n",
    "\"\"\"\n",
    "Define the three important variables.\n",
    "Note that these are the first three positional arguments\n",
    "in tksurfer (and pysurfer for that matter).\n",
    "\"\"\"\n",
    "subject_id = 'fsaverage'\n",
    "hemi = 'lh'\n",
    "surf = 'inflated'\n",
    "\n",
    "\"\"\"\n",
    "Call the Brain object constructor with these\n",
    "parameters to initialize the visualization session.\n",
    "\"\"\"\n",
    "brain = Brain(subject_id, hemi, surf)"
   ]
  },
  {
   "cell_type": "code",
   "execution_count": null,
   "metadata": {},
   "outputs": [],
   "source": []
  }
 ],
 "metadata": {
  "kernelspec": {
   "display_name": "Python 3",
   "language": "python",
   "name": "python3"
  },
  "language_info": {
   "codemirror_mode": {
    "name": "ipython",
    "version": 3
   },
   "file_extension": ".py",
   "mimetype": "text/x-python",
   "name": "python",
   "nbconvert_exporter": "python",
   "pygments_lexer": "ipython3",
   "version": "3.6.5"
  }
 },
 "nbformat": 4,
 "nbformat_minor": 2
}
