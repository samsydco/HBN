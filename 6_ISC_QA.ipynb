{
 "cells": [
  {
   "cell_type": "code",
   "execution_count": 1,
   "metadata": {},
   "outputs": [],
   "source": [
    "import h5py\n",
    "import glob\n",
    "import numpy as np\n",
    "import random\n",
    "from scipy.spatial.distance import squareform\n",
    "from settings import *"
   ]
  },
  {
   "cell_type": "code",
   "execution_count": 2,
   "metadata": {},
   "outputs": [
    {
     "data": {
      "application/vnd.jupyter.widget-view+json": {
       "model_id": "c3ba21fba4e447fb9de8b5bacc250b61",
       "version_major": 2,
       "version_minor": 0
      },
      "text/plain": [
       "FigureCanvasNbAgg()"
      ]
     },
     "metadata": {},
     "output_type": "display_data"
    }
   ],
   "source": [
    "%matplotlib widget\n",
    "import matplotlib.pyplot as plt\n",
    "from mpl_toolkits.mplot3d import axes3d, Axes3D\n",
    "# pick which random coords to display:\n",
    "f = h5py.File('/data/Schema/intact/fsaverage6_adj.h5', 'r')\n",
    "dispcoordsLH = f['lhinflatedcoords'][:]\n",
    "randcoords = random.sample(range(len(dispcoordsLH[1])), 5000)\n",
    "dispcoordsLH = dispcoordsLH[:,randcoords]\n",
    "dispcoordsRH = f['rhinflatedcoords'][:]\n",
    "dispcoordsRH = dispcoordsRH[:,randcoords]\n",
    "\n",
    "fig1 = plt.figure()\n",
    "\n",
    "ISCfile = 'ISC.h5'\n",
    "f = h5py.File(ISCpath+ISCfile, 'r')\n",
    "\n",
    "for idx,task in enumerate(['DM','TP']):\n",
    "    if 'cat' not in ISCfile:\n",
    "        ISC = np.nan_to_num(np.mean(f[task]['ISC_persubj'][:],axis=1))\n",
    "    else:\n",
    "        ISC = np.nan_to_num(np.mean(f['ISC_persubj'][:],axis=1))\n",
    "        task = 'all'\n",
    "    # For SUMA visualization:\n",
    "    np.savetxt(ISCpath+task+'ISC.lh.dset',ISC[:len(ISC)//2])\n",
    "    np.savetxt(ISCpath+task+'ISC.rh.dset',ISC[len(ISC)//2:])\n",
    "    dispISCLH = ISC[:len(ISC)//2][randcoords] # For LH\n",
    "    dispISCRH = ISC[len(ISC)//2:][randcoords] # For RH\n",
    "    # plot ISC values across cortex\n",
    "    axrh = fig1.add_subplot(2,2,idx+1, projection='3d')\n",
    "    x,y,z = dispcoordsRH\n",
    "    brainrh = axrh.scatter3D(x,y,z,c=dispISCRH, cmap='bwr')\n",
    "    fig1.colorbar(brainrh)\n",
    "    axrh.set_title(task + ' RH')\n",
    "    \n",
    "    axlh = fig1.add_subplot(2,2,idx+3, projection='3d')\n",
    "    x,y,z = dispcoordsLH\n",
    "    brainlh = axlh.scatter3D(x,y,z,c=dispISCLH, cmap='bwr');\n",
    "    fig1.colorbar(brainlh)\n",
    "    axlh.set_title(task + ' LH')"
   ]
  },
  {
   "cell_type": "code",
   "execution_count": 3,
   "metadata": {},
   "outputs": [
    {
     "data": {
      "application/vnd.jupyter.widget-view+json": {
       "model_id": "3303ecc244bd44069717d6c5f003f9fb",
       "version_major": 2,
       "version_minor": 0
      },
      "text/plain": [
       "FigureCanvasNbAgg()"
      ]
     },
     "metadata": {},
     "output_type": "display_data"
    }
   ],
   "source": [
    "fig2 = plt.figure()\n",
    "\n",
    "Ages = []\n",
    "Sexes = []\n",
    "for s in f['subord'][:]:\n",
    "    fs = h5py.File(prepath + s.split('/')[-1],'r')\n",
    "    Ages.append(fs['Pheno']['Age'].value)\n",
    "    Sexes.append(fs['Pheno']['Sex'].value)\n",
    "Agesr = np.round(Ages)\n",
    "Agesu = list(set(Agesr))\n",
    "\n",
    "for idx,task in enumerate(['DM','TP']):\n",
    "    if 'cat' not in ISCfile:\n",
    "        ISC_persubj = np.mean(np.nan_to_num(f[task]['ISC_persubj'][:])>0.1,axis=0)\n",
    "    else:\n",
    "        ISC_persubj = np.mean(np.nan_to_num(f['ISC_persubj'][:])>0.1,axis=0)\n",
    "        task = 'all'\n",
    "    \n",
    "    # ISC_persubj = np.nanmean(f[task]['ISC_persubj'][:],axis=0)\n",
    "    ISCam = []\n",
    "    ISCas = []\n",
    "    for a in Agesu:\n",
    "        idxs = list(np.where(Agesr==a))[0]\n",
    "        ISCam.append(np.mean(ISC_persubj[idxs]))\n",
    "        ISCas.append(np.std(ISC_persubj[idxs]))\n",
    "    ISCsm = []\n",
    "    ISCss = []\n",
    "    for s in np.int64([0,1]):\n",
    "        idxs = list(np.where(Sexes==s))[0]\n",
    "        ISCsm.append(np.mean(ISC_persubj[idxs]))\n",
    "        ISCss.append(np.std(ISC_persubj[idxs])) \n",
    "    # plot per-subject ISC values by age\n",
    "    ax = fig2.add_subplot(2,2,idx+1)\n",
    "    ax.errorbar(Agesu, ISCam, ISCas, marker='o', linestyle='None')\n",
    "    plt.ylabel('ISC')\n",
    "    plt.xlabel('Age')\n",
    "    ax.set_title(task + ' ISC by age')\n",
    "    # plot per-subject ISC values by sex\n",
    "    ax = fig2.add_subplot(2,2,idx+3)\n",
    "    ax.errorbar([0,1], ISCsm, ISCss, linestyle='None', marker='^')\n",
    "    ax.xaxis.set_ticks([0, 1])\n",
    "    ax.xaxis.set_ticklabels(('Male','Female'))\n",
    "    ax.set_title(task + ' ISC by sex')\n",
    "    plt.ylabel('ISC')\n",
    "fig2.tight_layout()\n",
    "fig2.savefig(figurepath+'ISC.png')"
   ]
  },
  {
   "cell_type": "code",
   "execution_count": 4,
   "metadata": {},
   "outputs": [],
   "source": [
    "def sortby(items):\n",
    "    import itertools\n",
    "    pairstmp = list(itertools.combinations(range(len(items)), 2))\n",
    "    sort_index = np.argsort(items)\n",
    "    pairs = np.full(np.shape(pairstmp),np.nan)\n",
    "    for sidx,i in enumerate(sort_index):\n",
    "        for idx,p in enumerate(pairstmp):\n",
    "            if i in p:\n",
    "                pairs[idx][p.index(i)] = sidx\n",
    "    # Sort pairs: [(0,1),(0,2),...(3,4)]\n",
    "    sort = []\n",
    "    for idx in range(len(sort_index)):\n",
    "        pidx = [idxp for idxp,element in enumerate(pairs) if idx in element]\n",
    "        # check if idx already in sort:\n",
    "        pidx = list(set(pidx).difference(set(pidx).intersection(sort)))\n",
    "        sort.extend(pidx[i] for i in np.argsort(np.sum(pairs[pidx],axis=1)))\n",
    "    return sort"
   ]
  },
  {
   "cell_type": "code",
   "execution_count": 5,
   "metadata": {},
   "outputs": [
    {
     "data": {
      "application/vnd.jupyter.widget-view+json": {
       "model_id": "3a58313433e34cfca4a936efb59a9a45",
       "version_major": 2,
       "version_minor": 0
      },
      "text/plain": [
       "FigureCanvasNbAgg()"
      ]
     },
     "metadata": {},
     "output_type": "display_data"
    },
    {
     "name": "stderr",
     "output_type": "stream",
     "text": [
      "/home/scohen/.conda/envs/scohen_brainiak_env_0.8/lib/python3.6/site-packages/matplotlib/figure.py:2267: UserWarning: This figure includes Axes that are not compatible with tight_layout, so results might be incorrect.\n",
      "  warnings.warn(\"This figure includes Axes that are not compatible \"\n"
     ]
    },
    {
     "data": {
      "application/vnd.jupyter.widget-view+json": {
       "model_id": "1cf8b9ad0119447d88113e247b9fcfea",
       "version_major": 2,
       "version_minor": 0
      },
      "text/plain": [
       "FigureCanvasNbAgg()"
      ]
     },
     "metadata": {},
     "output_type": "display_data"
    },
    {
     "name": "stderr",
     "output_type": "stream",
     "text": [
      "/home/scohen/.conda/envs/scohen_brainiak_env_0.8/lib/python3.6/site-packages/matplotlib/figure.py:2267: UserWarning: This figure includes Axes that are not compatible with tight_layout, so results might be incorrect.\n",
      "  warnings.warn(\"This figure includes Axes that are not compatible \"\n"
     ]
    }
   ],
   "source": [
    "# plot matrix of per-subject ISCs\n",
    "import itertools\n",
    "import seaborn as sns; #sns.set()\n",
    "#fig3 = plt.figure()\n",
    "sort_age = sortby(Agesr)\n",
    "sort_sex = sortby(Sexes)\n",
    "\n",
    "ROIs = ['RSC','A1']\n",
    "figs={}\n",
    "for roi in ROIs:\n",
    "    figs[roi] = plt.figure()\n",
    "    cbar_ax = figs[roi].add_axes([.91, .3, .03, .4])\n",
    "    for idx,task in enumerate(['DM','TP']):\n",
    "        #iscs_ages = squareform(np.mean(np.nan_to_num(f[task]['isc_pairs'][:])>0.1,axis=1)[sort_age])\n",
    "        #iscs_sexes = squareform(np.mean(np.nan_to_num(f[task]['isc_pairs'][:])>0.1,axis=1)[sort_sex])\n",
    "        iscs_ages = squareform(f[task]['isc_pairs'][roi][:][sort_age])\n",
    "        iscs_sexes = squareform(f[task]['isc_pairs'][roi][:][sort_sex])\n",
    "        ax = figs[roi].add_subplot(2,2,idx+1)\n",
    "        sns.heatmap(data=iscs_ages, ax=ax,xticklabels=np.sort(Agesr),yticklabels=np.sort(Agesr),#annot=True,\n",
    "               vmin=0,vmax=0.4,cbar=(idx==0),cbar_ax=None if idx else cbar_ax)\n",
    "        ax.set_title(task + ' '+roi+' ISC by age')\n",
    "        ax = figs[roi].add_subplot(2,2,idx+3)\n",
    "        sns.heatmap(data=iscs_sexes, ax=ax,xticklabels=np.sort(Sexes),yticklabels=np.sort(Sexes),#annot=True,\n",
    "               vmin=0,vmax=0.4,cbar=(idx==0),cbar_ax=None if idx else cbar_ax)\n",
    "        ax.set_title(task + ' '+roi+' ISC by sex')\n",
    "\n",
    "    figs[roi].tight_layout(rect=[0, 0, .9, 1])\n",
    "    figs[roi].savefig(figurepath+'ISC_'+roi+'.png')"
   ]
  },
  {
   "cell_type": "code",
   "execution_count": 41,
   "metadata": {},
   "outputs": [
    {
     "data": {
      "application/vnd.jupyter.widget-view+json": {
       "model_id": "cbae0283a63b4651981b3c63be5c19b5",
       "version_major": 2,
       "version_minor": 0
      },
      "text/plain": [
       "FigureCanvasNbAgg()"
      ]
     },
     "metadata": {},
     "output_type": "display_data"
    },
    {
     "data": {
      "application/vnd.jupyter.widget-view+json": {
       "model_id": "0981ad7170344bb093a0020b623b64e9",
       "version_major": 2,
       "version_minor": 0
      },
      "text/plain": [
       "FigureCanvasNbAgg()"
      ]
     },
     "metadata": {},
     "output_type": "display_data"
    }
   ],
   "source": [
    "subord = glob.glob(prepath+'sub*.h5')\n",
    "#subord = subord[0:5] # for testing!\n",
    "ROIs = ['RSC','A1']\n",
    "figs2 = {}\n",
    "for task in ['DM','TP']:\n",
    "    figs2[task] = plt.figure(figsize=(8,4))\n",
    "    ROIdata = {}\n",
    "    for roi in ROIs:\n",
    "        ROIdata[roi] = []\n",
    "    for subidx, sub in enumerate(subord):\n",
    "        f = h5py.File(sub, 'r')\n",
    "        for roi in ROIs:\n",
    "            if roi in list(f[task].keys()):\n",
    "                ROIdata[roi].append(f[task][roi][:])\n",
    "    for ridx, roi in enumerate(ROIs):\n",
    "        ROIdata[roi] = np.stack(ROIdata[roi])\n",
    "        t = ROIdata[roi].shape[2]\n",
    "        corr = []\n",
    "        for sub in range(len(ROIdata[roi])):\n",
    "            tmp = np.corrcoef(ROIdata[roi][sub,:,:],\n",
    "                    np.mean(ROIdata[roi][[x for x in range(len(ROIdata[roi])) if x!=sub],:,:],axis=0),\n",
    "                               rowvar=False)\n",
    "            corr.append(np.mean(np.stack([tmp[:t,t:],tmp[t:,:t]]),axis=0))\n",
    "        ax = figs2[task].add_subplot(1,2,ridx+1)\n",
    "        sns.heatmap(data=np.mean(np.stack(corr),axis=0),vmin=-0.1,vmax=0.1)#,cbar=(idx==0),cbar_ax=None if ridx else cbar_ax)\n",
    "        ax.set_title(task + ' '+roi)\n",
    "    figs2[task].savefig(figurepath+'xcorr_'+task+'.png')"
   ]
  },
  {
   "cell_type": "code",
   "execution_count": null,
   "metadata": {},
   "outputs": [],
   "source": [
    "%matplotlib widget\n",
    "fig = plt.figure()\n",
    "#ax = plt.axes(projection='3d')\n",
    "ax = fig.gca(projection='3d')\n",
    "\n",
    "x,y,z = dispcoordsRH\n",
    "brain = ax.scatter3D(x,y,z,c=dispISCRH, cmap='bwr');\n",
    "plt.colorbar(brain)"
   ]
  },
  {
   "cell_type": "code",
   "execution_count": null,
   "metadata": {},
   "outputs": [],
   "source": []
  }
 ],
 "metadata": {
  "kernelspec": {
   "display_name": "Python 3",
   "language": "python",
   "name": "python3"
  },
  "language_info": {
   "codemirror_mode": {
    "name": "ipython",
    "version": 3
   },
   "file_extension": ".py",
   "mimetype": "text/x-python",
   "name": "python",
   "nbconvert_exporter": "python",
   "pygments_lexer": "ipython3",
   "version": "3.6.5"
  }
 },
 "nbformat": 4,
 "nbformat_minor": 2
}
